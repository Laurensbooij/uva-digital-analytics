{
 "cells": [
  {
   "cell_type": "markdown",
   "metadata": {},
   "source": [
    "# Loading different types of data in Pandas\n",
    "\n",
    "Pandas can load different types of files, which is quite helpful for our analyses. Here we'll cover four types:\n",
    "\n",
    "* CSV files (comma-separated files)\n",
    "* Pickle files (files in a Python export format)\n",
    "* Tabular files\n",
    "* JSON-type files\n",
    "\n",
    "\n",
    "Some of the examples below are on my own computer (not GitHub) for privacy and data protection reasons. This means you will need to work with your own data (e.g., tweets collected via ```twarc``` or your own Facebook or Instagram data).\n",
    "\n",
    "\n",
    "#### Small note on file locations\n",
    "Some files below appear as ```../../../DA-StudentFiles/LocalFiles/...```. The ```../``` means \"go one folder back\" based on the folder we are in. So pandas will go back three folders (3 x ```../```, then go to a folder called ```DA-StudentFiles```, open then a folder called ```LocalFiles``` and then locate the file.\n",
    "\n",
    "Too complex? For now, just add the file to the same folder you are running Jupyter Notebook and that will work :) In the future you can learn a bit more about how to find the relative or absolute path to a file in your computer."
   ]
  },
  {
   "cell_type": "code",
   "execution_count": 1,
   "metadata": {},
   "outputs": [],
   "source": [
    "import pandas as pd"
   ]
  },
  {
   "cell_type": "markdown",
   "metadata": {},
   "source": [
    "## CSV and pickle files\n",
    "\n",
    "We've already seen these files appearing before in the previous video. They are sometimes the easiest to open, because they already are in a *tabular* format - i.e., they are in the format of a table, or of a dataframe. It does not mean that they are *ready* for analysis, but still..."
   ]
  },
  {
   "cell_type": "code",
   "execution_count": 2,
   "metadata": {},
   "outputs": [],
   "source": [
    "df_csv = pd.read_csv('websites.csv')"
   ]
  },
  {
   "cell_type": "code",
   "execution_count": 3,
   "metadata": {},
   "outputs": [
    {
     "data": {
      "text/html": [
       "<div>\n",
       "<style scoped>\n",
       "    .dataframe tbody tr th:only-of-type {\n",
       "        vertical-align: middle;\n",
       "    }\n",
       "\n",
       "    .dataframe tbody tr th {\n",
       "        vertical-align: top;\n",
       "    }\n",
       "\n",
       "    .dataframe thead th {\n",
       "        text-align: right;\n",
       "    }\n",
       "</style>\n",
       "<table border=\"1\" class=\"dataframe\">\n",
       "  <thead>\n",
       "    <tr style=\"text-align: right;\">\n",
       "      <th></th>\n",
       "      <th>Unnamed: 0</th>\n",
       "      <th>site</th>\n",
       "      <th>type</th>\n",
       "      <th>views</th>\n",
       "      <th>active_users</th>\n",
       "    </tr>\n",
       "  </thead>\n",
       "  <tbody>\n",
       "    <tr>\n",
       "      <th>0</th>\n",
       "      <td>0</td>\n",
       "      <td>Twitter</td>\n",
       "      <td>Social Media</td>\n",
       "      <td>10000</td>\n",
       "      <td>200000</td>\n",
       "    </tr>\n",
       "    <tr>\n",
       "      <th>1</th>\n",
       "      <td>1</td>\n",
       "      <td>Facebook</td>\n",
       "      <td>Social Media</td>\n",
       "      <td>35000</td>\n",
       "      <td>500000</td>\n",
       "    </tr>\n",
       "    <tr>\n",
       "      <th>2</th>\n",
       "      <td>2</td>\n",
       "      <td>NYT</td>\n",
       "      <td>News media</td>\n",
       "      <td>78000</td>\n",
       "      <td>156000</td>\n",
       "    </tr>\n",
       "    <tr>\n",
       "      <th>3</th>\n",
       "      <td>3</td>\n",
       "      <td>YouTube</td>\n",
       "      <td>Video platform</td>\n",
       "      <td>18000</td>\n",
       "      <td>289000</td>\n",
       "    </tr>\n",
       "    <tr>\n",
       "      <th>4</th>\n",
       "      <td>4</td>\n",
       "      <td>Vimeo</td>\n",
       "      <td>Video platform</td>\n",
       "      <td>300</td>\n",
       "      <td>1580</td>\n",
       "    </tr>\n",
       "  </tbody>\n",
       "</table>\n",
       "</div>"
      ],
      "text/plain": [
       "   Unnamed: 0      site            type  views  active_users\n",
       "0           0   Twitter    Social Media  10000        200000\n",
       "1           1  Facebook    Social Media  35000        500000\n",
       "2           2       NYT      News media  78000        156000\n",
       "3           3   YouTube  Video platform  18000        289000\n",
       "4           4     Vimeo  Video platform    300          1580"
      ]
     },
     "execution_count": 3,
     "metadata": {},
     "output_type": "execute_result"
    }
   ],
   "source": [
    "df_csv.head()"
   ]
  },
  {
   "cell_type": "code",
   "execution_count": 4,
   "metadata": {},
   "outputs": [],
   "source": [
    "df_pkl = pd.read_pickle('websites.pkl')"
   ]
  },
  {
   "cell_type": "code",
   "execution_count": 5,
   "metadata": {},
   "outputs": [
    {
     "data": {
      "text/html": [
       "<div>\n",
       "<style scoped>\n",
       "    .dataframe tbody tr th:only-of-type {\n",
       "        vertical-align: middle;\n",
       "    }\n",
       "\n",
       "    .dataframe tbody tr th {\n",
       "        vertical-align: top;\n",
       "    }\n",
       "\n",
       "    .dataframe thead th {\n",
       "        text-align: right;\n",
       "    }\n",
       "</style>\n",
       "<table border=\"1\" class=\"dataframe\">\n",
       "  <thead>\n",
       "    <tr style=\"text-align: right;\">\n",
       "      <th></th>\n",
       "      <th>site</th>\n",
       "      <th>type</th>\n",
       "      <th>views</th>\n",
       "      <th>active_users</th>\n",
       "    </tr>\n",
       "  </thead>\n",
       "  <tbody>\n",
       "    <tr>\n",
       "      <th>0</th>\n",
       "      <td>Twitter</td>\n",
       "      <td>Social Media</td>\n",
       "      <td>10000</td>\n",
       "      <td>200000</td>\n",
       "    </tr>\n",
       "    <tr>\n",
       "      <th>1</th>\n",
       "      <td>Facebook</td>\n",
       "      <td>Social Media</td>\n",
       "      <td>35000</td>\n",
       "      <td>500000</td>\n",
       "    </tr>\n",
       "    <tr>\n",
       "      <th>2</th>\n",
       "      <td>NYT</td>\n",
       "      <td>News media</td>\n",
       "      <td>78000</td>\n",
       "      <td>156000</td>\n",
       "    </tr>\n",
       "    <tr>\n",
       "      <th>3</th>\n",
       "      <td>YouTube</td>\n",
       "      <td>Video platform</td>\n",
       "      <td>18000</td>\n",
       "      <td>289000</td>\n",
       "    </tr>\n",
       "    <tr>\n",
       "      <th>4</th>\n",
       "      <td>Vimeo</td>\n",
       "      <td>Video platform</td>\n",
       "      <td>300</td>\n",
       "      <td>1580</td>\n",
       "    </tr>\n",
       "  </tbody>\n",
       "</table>\n",
       "</div>"
      ],
      "text/plain": [
       "       site            type  views  active_users\n",
       "0   Twitter    Social Media  10000        200000\n",
       "1  Facebook    Social Media  35000        500000\n",
       "2       NYT      News media  78000        156000\n",
       "3   YouTube  Video platform  18000        289000\n",
       "4     Vimeo  Video platform    300          1580"
      ]
     },
     "execution_count": 5,
     "metadata": {},
     "output_type": "execute_result"
    }
   ],
   "source": [
    "df_pkl.head()"
   ]
  },
  {
   "cell_type": "markdown",
   "metadata": {},
   "source": [
    "## Tabular files\n",
    "\n",
    "Some files end with a ```.tab```, which might mean that they are tabular. This is way of describing files where the separator between columns is not a comma (CSV) but a tab. You can still use ```read_csv``` to open them, but just need to indicate that the separator is a tab (i.e., ```sep='\\t'``` as shown below).\n"
   ]
  },
  {
   "cell_type": "code",
   "execution_count": 6,
   "metadata": {},
   "outputs": [],
   "source": [
    "df_tab = pd.read_csv('../../../DA-StudentFiles/LocalFiles/videolist_playlist38_2021_09_09-10_43_36.tab', sep='\\t')"
   ]
  },
  {
   "cell_type": "code",
   "execution_count": 7,
   "metadata": {},
   "outputs": [
    {
     "data": {
      "text/html": [
       "<div>\n",
       "<style scoped>\n",
       "    .dataframe tbody tr th:only-of-type {\n",
       "        vertical-align: middle;\n",
       "    }\n",
       "\n",
       "    .dataframe tbody tr th {\n",
       "        vertical-align: top;\n",
       "    }\n",
       "\n",
       "    .dataframe thead th {\n",
       "        text-align: right;\n",
       "    }\n",
       "</style>\n",
       "<table border=\"1\" class=\"dataframe\">\n",
       "  <thead>\n",
       "    <tr style=\"text-align: right;\">\n",
       "      <th></th>\n",
       "      <th>position</th>\n",
       "      <th>channelId</th>\n",
       "      <th>channelTitle</th>\n",
       "      <th>videoId</th>\n",
       "      <th>publishedAt</th>\n",
       "      <th>publishedAtSQL</th>\n",
       "      <th>videoTitle</th>\n",
       "      <th>videoDescription</th>\n",
       "      <th>tags</th>\n",
       "      <th>videoCategoryId</th>\n",
       "      <th>...</th>\n",
       "      <th>dimension</th>\n",
       "      <th>definition</th>\n",
       "      <th>caption</th>\n",
       "      <th>thumbnail_maxres</th>\n",
       "      <th>licensedContent</th>\n",
       "      <th>viewCount</th>\n",
       "      <th>likeCount</th>\n",
       "      <th>dislikeCount</th>\n",
       "      <th>favoriteCount</th>\n",
       "      <th>commentCount</th>\n",
       "    </tr>\n",
       "  </thead>\n",
       "  <tbody>\n",
       "    <tr>\n",
       "      <th>0</th>\n",
       "      <td>1</td>\n",
       "      <td>UC07-dOwgza1IguKA86jqxNA</td>\n",
       "      <td>World Health Organization (WHO)</td>\n",
       "      <td>4SxRq45yVFY</td>\n",
       "      <td>2021-01-27T17:47:20Z</td>\n",
       "      <td>2021-01-27 17:47:20</td>\n",
       "      <td>#COVID19 LIVE Q&amp;A virus variants with Dr M. Ry...</td>\n",
       "      <td>#AskWHO series: This was the live discussion o...</td>\n",
       "      <td>COVID-19,Coronavirus,World Health Organization...</td>\n",
       "      <td>25</td>\n",
       "      <td>...</td>\n",
       "      <td>2d</td>\n",
       "      <td>hd</td>\n",
       "      <td>False</td>\n",
       "      <td>https://i.ytimg.com/vi/4SxRq45yVFY/maxresdefau...</td>\n",
       "      <td>NaN</td>\n",
       "      <td>12553</td>\n",
       "      <td>270</td>\n",
       "      <td>56</td>\n",
       "      <td>0</td>\n",
       "      <td>59</td>\n",
       "    </tr>\n",
       "    <tr>\n",
       "      <th>1</th>\n",
       "      <td>2</td>\n",
       "      <td>UC07-dOwgza1IguKA86jqxNA</td>\n",
       "      <td>World Health Organization (WHO)</td>\n",
       "      <td>yo2wTVOXVw8</td>\n",
       "      <td>2021-01-20T17:07:32Z</td>\n",
       "      <td>2021-01-20 17:07:32</td>\n",
       "      <td>#COVID19 LIVE Q&amp;A about vaccines, diagnostics ...</td>\n",
       "      <td>#AskWHO series: This was the live discussion o...</td>\n",
       "      <td>COVID-19,Coronavirus,World Health Organization...</td>\n",
       "      <td>25</td>\n",
       "      <td>...</td>\n",
       "      <td>2d</td>\n",
       "      <td>hd</td>\n",
       "      <td>False</td>\n",
       "      <td>https://i.ytimg.com/vi/yo2wTVOXVw8/maxresdefau...</td>\n",
       "      <td>NaN</td>\n",
       "      <td>6750</td>\n",
       "      <td>151</td>\n",
       "      <td>42</td>\n",
       "      <td>0</td>\n",
       "      <td>34</td>\n",
       "    </tr>\n",
       "    <tr>\n",
       "      <th>2</th>\n",
       "      <td>3</td>\n",
       "      <td>UC07-dOwgza1IguKA86jqxNA</td>\n",
       "      <td>World Health Organization (WHO)</td>\n",
       "      <td>ijtYelZGi4A</td>\n",
       "      <td>2021-01-13T17:21:51Z</td>\n",
       "      <td>2021-01-13 17:21:51</td>\n",
       "      <td>#COVID19 LIVE Q&amp;A with Dr Ryan, Dr Van Kerkhov...</td>\n",
       "      <td>#AskWHO series: This was the live discussion a...</td>\n",
       "      <td>COVID-19,Coronavirus,World Health Organization...</td>\n",
       "      <td>25</td>\n",
       "      <td>...</td>\n",
       "      <td>2d</td>\n",
       "      <td>hd</td>\n",
       "      <td>False</td>\n",
       "      <td>https://i.ytimg.com/vi/ijtYelZGi4A/maxresdefau...</td>\n",
       "      <td>NaN</td>\n",
       "      <td>7565</td>\n",
       "      <td>161</td>\n",
       "      <td>53</td>\n",
       "      <td>0</td>\n",
       "      <td>24</td>\n",
       "    </tr>\n",
       "    <tr>\n",
       "      <th>3</th>\n",
       "      <td>4</td>\n",
       "      <td>UC07-dOwgza1IguKA86jqxNA</td>\n",
       "      <td>World Health Organization (WHO)</td>\n",
       "      <td>QNYvLeEHKKk</td>\n",
       "      <td>2021-01-07T15:04:51Z</td>\n",
       "      <td>2021-01-07 15:04:51</td>\n",
       "      <td>#COVID19 vaccines LIVE Q&amp;A with Dr @Kate_L_OBr...</td>\n",
       "      <td>#AskWHO series: This was the live discussion a...</td>\n",
       "      <td>COVID-19,Coronavirus,World Health Organization...</td>\n",
       "      <td>25</td>\n",
       "      <td>...</td>\n",
       "      <td>2d</td>\n",
       "      <td>hd</td>\n",
       "      <td>False</td>\n",
       "      <td>https://i.ytimg.com/vi/QNYvLeEHKKk/maxresdefau...</td>\n",
       "      <td>NaN</td>\n",
       "      <td>19302</td>\n",
       "      <td>191</td>\n",
       "      <td>37</td>\n",
       "      <td>0</td>\n",
       "      <td>19</td>\n",
       "    </tr>\n",
       "    <tr>\n",
       "      <th>4</th>\n",
       "      <td>5</td>\n",
       "      <td>UC07-dOwgza1IguKA86jqxNA</td>\n",
       "      <td>World Health Organization (WHO)</td>\n",
       "      <td>1sgJBc3fyt0</td>\n",
       "      <td>2021-01-06T18:04:13Z</td>\n",
       "      <td>2021-01-06 18:04:13</td>\n",
       "      <td>#COVID19 LIVE Q&amp;A with @DrMikeRyan and Dr @mva...</td>\n",
       "      <td>#AskWHO series: This was the live discussion a...</td>\n",
       "      <td>COVID-19,Coronavirus,World Health Organization...</td>\n",
       "      <td>25</td>\n",
       "      <td>...</td>\n",
       "      <td>2d</td>\n",
       "      <td>hd</td>\n",
       "      <td>False</td>\n",
       "      <td>https://i.ytimg.com/vi/1sgJBc3fyt0/maxresdefau...</td>\n",
       "      <td>NaN</td>\n",
       "      <td>5650</td>\n",
       "      <td>148</td>\n",
       "      <td>44</td>\n",
       "      <td>0</td>\n",
       "      <td>27</td>\n",
       "    </tr>\n",
       "  </tbody>\n",
       "</table>\n",
       "<p>5 rows × 23 columns</p>\n",
       "</div>"
      ],
      "text/plain": [
       "   position                 channelId                     channelTitle  \\\n",
       "0         1  UC07-dOwgza1IguKA86jqxNA  World Health Organization (WHO)   \n",
       "1         2  UC07-dOwgza1IguKA86jqxNA  World Health Organization (WHO)   \n",
       "2         3  UC07-dOwgza1IguKA86jqxNA  World Health Organization (WHO)   \n",
       "3         4  UC07-dOwgza1IguKA86jqxNA  World Health Organization (WHO)   \n",
       "4         5  UC07-dOwgza1IguKA86jqxNA  World Health Organization (WHO)   \n",
       "\n",
       "       videoId           publishedAt       publishedAtSQL  \\\n",
       "0  4SxRq45yVFY  2021-01-27T17:47:20Z  2021-01-27 17:47:20   \n",
       "1  yo2wTVOXVw8  2021-01-20T17:07:32Z  2021-01-20 17:07:32   \n",
       "2  ijtYelZGi4A  2021-01-13T17:21:51Z  2021-01-13 17:21:51   \n",
       "3  QNYvLeEHKKk  2021-01-07T15:04:51Z  2021-01-07 15:04:51   \n",
       "4  1sgJBc3fyt0  2021-01-06T18:04:13Z  2021-01-06 18:04:13   \n",
       "\n",
       "                                          videoTitle  \\\n",
       "0  #COVID19 LIVE Q&A virus variants with Dr M. Ry...   \n",
       "1  #COVID19 LIVE Q&A about vaccines, diagnostics ...   \n",
       "2  #COVID19 LIVE Q&A with Dr Ryan, Dr Van Kerkhov...   \n",
       "3  #COVID19 vaccines LIVE Q&A with Dr @Kate_L_OBr...   \n",
       "4  #COVID19 LIVE Q&A with @DrMikeRyan and Dr @mva...   \n",
       "\n",
       "                                    videoDescription  \\\n",
       "0  #AskWHO series: This was the live discussion o...   \n",
       "1  #AskWHO series: This was the live discussion o...   \n",
       "2  #AskWHO series: This was the live discussion a...   \n",
       "3  #AskWHO series: This was the live discussion a...   \n",
       "4  #AskWHO series: This was the live discussion a...   \n",
       "\n",
       "                                                tags  videoCategoryId  ...  \\\n",
       "0  COVID-19,Coronavirus,World Health Organization...               25  ...   \n",
       "1  COVID-19,Coronavirus,World Health Organization...               25  ...   \n",
       "2  COVID-19,Coronavirus,World Health Organization...               25  ...   \n",
       "3  COVID-19,Coronavirus,World Health Organization...               25  ...   \n",
       "4  COVID-19,Coronavirus,World Health Organization...               25  ...   \n",
       "\n",
       "  dimension definition  caption  \\\n",
       "0        2d         hd    False   \n",
       "1        2d         hd    False   \n",
       "2        2d         hd    False   \n",
       "3        2d         hd    False   \n",
       "4        2d         hd    False   \n",
       "\n",
       "                                    thumbnail_maxres licensedContent  \\\n",
       "0  https://i.ytimg.com/vi/4SxRq45yVFY/maxresdefau...             NaN   \n",
       "1  https://i.ytimg.com/vi/yo2wTVOXVw8/maxresdefau...             NaN   \n",
       "2  https://i.ytimg.com/vi/ijtYelZGi4A/maxresdefau...             NaN   \n",
       "3  https://i.ytimg.com/vi/QNYvLeEHKKk/maxresdefau...             NaN   \n",
       "4  https://i.ytimg.com/vi/1sgJBc3fyt0/maxresdefau...             NaN   \n",
       "\n",
       "   viewCount likeCount  dislikeCount  favoriteCount  commentCount  \n",
       "0      12553       270            56              0            59  \n",
       "1       6750       151            42              0            34  \n",
       "2       7565       161            53              0            24  \n",
       "3      19302       191            37              0            19  \n",
       "4       5650       148            44              0            27  \n",
       "\n",
       "[5 rows x 23 columns]"
      ]
     },
     "execution_count": 7,
     "metadata": {},
     "output_type": "execute_result"
    }
   ],
   "source": [
    "df_tab.head()"
   ]
  },
  {
   "cell_type": "markdown",
   "metadata": {},
   "source": [
    "Above I am by the way opening video information from the Covid Q&A playlist from the [WHO](https://www.youtube.com/playlist?list=PL9S6xGsoqIBWoRPNDwI_qFOb-j3xcNOXR) downloaded using the [YouTube Data Tools](https://tools.digitalmethods.net/netvizz/youtube/mod_videos_list.php) created by our colleagues at the Digital Humanities.\n"
   ]
  },
  {
   "attachments": {
    "5ae55af3-4a88-44a1-a109-59a5601c7b79.png": {
     "image/png": "[encoded data removed]"
    }
   },
   "cell_type": "markdown",
   "metadata": {},
   "source": [
    "## JSON - or JSON-like files\n",
    "\n",
    "JSON - short for JavaScript Object Notation - is a very popular format for files. \n",
    "\n",
    "Python can read JSON very easily, and a JSON-like object looks a lot like a set of lists and dictionaries. For example, this is a screenshot of JSON-data from my Instagram data donwload package (apparently I like cosmetics and hair products?):\n",
    "\n",
    "![image.png](attachment:5ae55af3-4a88-44a1-a109-59a5601c7b79.png)\n",
    "\n",
    "The challenge is that not all JSON files work very well in a tabular format. That's because one of the advantages of JSON - responsible for a lot of its popularity - is specifically the fact that it *does not* need the data to be organized in the format of a table.\n",
    "\n",
    "This means that there's some trial and error to get it done (and read in a way that works). Here I am showing three different formats:\n",
    "\n",
    "* The output from ```twarc```, i.e., tweets\n",
    "* An example of a file coming from an Instagram Data Download Package\n",
    "* An example of a file coming from a Facebook Data Download Package\n",
    "\n",
    "Other formats may or may not work immediately. In case of questions, open an issue to us."
   ]
  },
  {
   "cell_type": "markdown",
   "metadata": {},
   "source": [
    "### Files coming from twarc (jsonl format)"
   ]
  },
  {
   "cell_type": "code",
   "execution_count": 8,
   "metadata": {},
   "outputs": [],
   "source": [
    "df_jsonl = pd.read_json('../../../DA-StudentFiles/LocalFiles/tweets_algorithm.jsonl', lines=True)"
   ]
  },
  {
   "cell_type": "code",
   "execution_count": 9,
   "metadata": {},
   "outputs": [
    {
     "data": {
      "text/plain": [
       "Index(['created_at', 'id', 'id_str', 'full_text', 'truncated',\n",
       "       'display_text_range', 'entities', 'metadata', 'source',\n",
       "       'in_reply_to_status_id', 'in_reply_to_status_id_str',\n",
       "       'in_reply_to_user_id', 'in_reply_to_user_id_str',\n",
       "       'in_reply_to_screen_name', 'user', 'geo', 'coordinates', 'place',\n",
       "       'contributors', 'retweeted_status', 'is_quote_status', 'retweet_count',\n",
       "       'favorite_count', 'favorited', 'retweeted', 'lang', 'extended_entities',\n",
       "       'possibly_sensitive', 'quoted_status_id', 'quoted_status_id_str',\n",
       "       'quoted_status'],\n",
       "      dtype='object')"
      ]
     },
     "execution_count": 9,
     "metadata": {},
     "output_type": "execute_result"
    }
   ],
   "source": [
    "df_jsonl.columns"
   ]
  },
  {
   "cell_type": "markdown",
   "metadata": {},
   "source": [
    "## Files from Facebook or Instagram\n",
    "\n",
    "### Instagram example\n",
    "\n",
    "These files are a bit trickier, as their format needs some work. Here's how they look like if you simply open them:"
   ]
  },
  {
   "cell_type": "code",
   "execution_count": 10,
   "metadata": {},
   "outputs": [],
   "source": [
    "df_ads_interests = pd.read_json('../../../DA-StudentFiles/LocalFiles/ads_interests.json')"
   ]
  },
  {
   "cell_type": "code",
   "execution_count": 11,
   "metadata": {},
   "outputs": [
    {
     "data": {
      "text/html": [
       "<div>\n",
       "<style scoped>\n",
       "    .dataframe tbody tr th:only-of-type {\n",
       "        vertical-align: middle;\n",
       "    }\n",
       "\n",
       "    .dataframe tbody tr th {\n",
       "        vertical-align: top;\n",
       "    }\n",
       "\n",
       "    .dataframe thead th {\n",
       "        text-align: right;\n",
       "    }\n",
       "</style>\n",
       "<table border=\"1\" class=\"dataframe\">\n",
       "  <thead>\n",
       "    <tr style=\"text-align: right;\">\n",
       "      <th></th>\n",
       "      <th>inferred_data_ig_interest</th>\n",
       "    </tr>\n",
       "  </thead>\n",
       "  <tbody>\n",
       "    <tr>\n",
       "      <th>0</th>\n",
       "      <td>{'title': '', 'media_map_data': {}, 'string_ma...</td>\n",
       "    </tr>\n",
       "    <tr>\n",
       "      <th>1</th>\n",
       "      <td>{'title': '', 'media_map_data': {}, 'string_ma...</td>\n",
       "    </tr>\n",
       "    <tr>\n",
       "      <th>2</th>\n",
       "      <td>{'title': '', 'media_map_data': {}, 'string_ma...</td>\n",
       "    </tr>\n",
       "    <tr>\n",
       "      <th>3</th>\n",
       "      <td>{'title': '', 'media_map_data': {}, 'string_ma...</td>\n",
       "    </tr>\n",
       "    <tr>\n",
       "      <th>4</th>\n",
       "      <td>{'title': '', 'media_map_data': {}, 'string_ma...</td>\n",
       "    </tr>\n",
       "  </tbody>\n",
       "</table>\n",
       "</div>"
      ],
      "text/plain": [
       "                           inferred_data_ig_interest\n",
       "0  {'title': '', 'media_map_data': {}, 'string_ma...\n",
       "1  {'title': '', 'media_map_data': {}, 'string_ma...\n",
       "2  {'title': '', 'media_map_data': {}, 'string_ma...\n",
       "3  {'title': '', 'media_map_data': {}, 'string_ma...\n",
       "4  {'title': '', 'media_map_data': {}, 'string_ma..."
      ]
     },
     "execution_count": 11,
     "metadata": {},
     "output_type": "execute_result"
    }
   ],
   "source": [
    "df_ads_interests.head()"
   ]
  },
  {
   "cell_type": "markdown",
   "metadata": {},
   "source": [
    "You see above that this does not look quite right. There's only one column (called ```inferred_data_ig_interest```) and it seems that each line has a dictionary - with what we actually need - inside. \n",
    "\n",
    "We will then do some quick data cleaning here. You will learn more about it in the next session, but for now, you just need to follow the same steps as I do."
   ]
  },
  {
   "cell_type": "markdown",
   "metadata": {},
   "source": [
    "**Step 1:** Find the name of the column that contains the dictionaries.\n",
    "\n",
    "In the case above, it is ```inferred_data_ig_interest```. In your case, it may be a different one."
   ]
  },
  {
   "cell_type": "markdown",
   "metadata": {},
   "source": [
    "**Step 2:** Copy and paste the following code to create this function in your own notebook. Don't forget to run it."
   ]
  },
  {
   "cell_type": "code",
   "execution_count": 12,
   "metadata": {},
   "outputs": [],
   "source": [
    "def expand_dictionary(row, columnname=''):\n",
    "    if columnname == '':\n",
    "        return row\n",
    "    # Returning the original row if the column does not contain a dictionary\n",
    "    if type(row[columnname]) != dict:\n",
    "        return row\n",
    "    \n",
    "    # Otherwise, transforming the dictionary in additional columns\n",
    "    for key, value in row[columnname].items():\n",
    "        if type(value) != dict:\n",
    "            row[key] = value\n",
    "        else:\n",
    "            for subkey, subvalue in row[columnname][key].items():\n",
    "                if type(subvalue) != dict:\n",
    "                    row[str(key)+'_'+str(subkey)] = subvalue\n",
    "                else:\n",
    "                    for subsubkey, subsubvalue in row[columnname][key][subkey].items():\n",
    "                        row[str(key)+'_'+str(subkey)+'_'+str(subsubkey)] = subsubvalue\n",
    "                \n",
    "        \n",
    "    return row       "
   ]
  },
  {
   "cell_type": "markdown",
   "metadata": {},
   "source": [
    "**Step 3:** Adapt the code below to (a) *have the name of your dataframe* and (b) *the name of your column* ."
   ]
  },
  {
   "cell_type": "code",
   "execution_count": 13,
   "metadata": {},
   "outputs": [],
   "source": [
    "df_ads_interests = df_ads_interests.apply(expand_dictionary, axis=1, args=('inferred_data_ig_interest',))"
   ]
  },
  {
   "cell_type": "code",
   "execution_count": 14,
   "metadata": {},
   "outputs": [
    {
     "data": {
      "text/html": [
       "<div>\n",
       "<style scoped>\n",
       "    .dataframe tbody tr th:only-of-type {\n",
       "        vertical-align: middle;\n",
       "    }\n",
       "\n",
       "    .dataframe tbody tr th {\n",
       "        vertical-align: top;\n",
       "    }\n",
       "\n",
       "    .dataframe thead th {\n",
       "        text-align: right;\n",
       "    }\n",
       "</style>\n",
       "<table border=\"1\" class=\"dataframe\">\n",
       "  <thead>\n",
       "    <tr style=\"text-align: right;\">\n",
       "      <th></th>\n",
       "      <th>inferred_data_ig_interest</th>\n",
       "      <th>title</th>\n",
       "      <th>string_map_data_Interest_href</th>\n",
       "      <th>string_map_data_Interest_value</th>\n",
       "      <th>string_map_data_Interest_timestamp</th>\n",
       "    </tr>\n",
       "  </thead>\n",
       "  <tbody>\n",
       "    <tr>\n",
       "      <th>0</th>\n",
       "      <td>{'title': '', 'media_map_data': {}, 'string_ma...</td>\n",
       "      <td></td>\n",
       "      <td></td>\n",
       "      <td>Cosmetics</td>\n",
       "      <td>0</td>\n",
       "    </tr>\n",
       "    <tr>\n",
       "      <th>1</th>\n",
       "      <td>{'title': '', 'media_map_data': {}, 'string_ma...</td>\n",
       "      <td></td>\n",
       "      <td></td>\n",
       "      <td>Hair products</td>\n",
       "      <td>0</td>\n",
       "    </tr>\n",
       "    <tr>\n",
       "      <th>2</th>\n",
       "      <td>{'title': '', 'media_map_data': {}, 'string_ma...</td>\n",
       "      <td></td>\n",
       "      <td></td>\n",
       "      <td>Spas</td>\n",
       "      <td>0</td>\n",
       "    </tr>\n",
       "    <tr>\n",
       "      <th>3</th>\n",
       "      <td>{'title': '', 'media_map_data': {}, 'string_ma...</td>\n",
       "      <td></td>\n",
       "      <td></td>\n",
       "      <td>Shopping and fashion</td>\n",
       "      <td>0</td>\n",
       "    </tr>\n",
       "    <tr>\n",
       "      <th>4</th>\n",
       "      <td>{'title': '', 'media_map_data': {}, 'string_ma...</td>\n",
       "      <td></td>\n",
       "      <td></td>\n",
       "      <td>Beauty</td>\n",
       "      <td>0</td>\n",
       "    </tr>\n",
       "  </tbody>\n",
       "</table>\n",
       "</div>"
      ],
      "text/plain": [
       "                           inferred_data_ig_interest title  \\\n",
       "0  {'title': '', 'media_map_data': {}, 'string_ma...         \n",
       "1  {'title': '', 'media_map_data': {}, 'string_ma...         \n",
       "2  {'title': '', 'media_map_data': {}, 'string_ma...         \n",
       "3  {'title': '', 'media_map_data': {}, 'string_ma...         \n",
       "4  {'title': '', 'media_map_data': {}, 'string_ma...         \n",
       "\n",
       "  string_map_data_Interest_href string_map_data_Interest_value  \\\n",
       "0                                                    Cosmetics   \n",
       "1                                                Hair products   \n",
       "2                                                         Spas   \n",
       "3                                         Shopping and fashion   \n",
       "4                                                       Beauty   \n",
       "\n",
       "   string_map_data_Interest_timestamp  \n",
       "0                                   0  \n",
       "1                                   0  \n",
       "2                                   0  \n",
       "3                                   0  \n",
       "4                                   0  "
      ]
     },
     "execution_count": 14,
     "metadata": {},
     "output_type": "execute_result"
    }
   ],
   "source": [
    "df_ads_interests.head()"
   ]
  },
  {
   "cell_type": "markdown",
   "metadata": {},
   "source": [
    "### Facebook example\n",
    "\n",
    "Sometimes they simply work:"
   ]
  },
  {
   "cell_type": "code",
   "execution_count": 15,
   "metadata": {},
   "outputs": [],
   "source": [
    "df_advertisers = pd.read_json('../../../DA-StudentFiles/LocalFiles/advertisers_who_uploaded_a_contact_list_with_your_information.json')"
   ]
  },
  {
   "cell_type": "code",
   "execution_count": 16,
   "metadata": {},
   "outputs": [
    {
     "data": {
      "text/html": [
       "<div>\n",
       "<style scoped>\n",
       "    .dataframe tbody tr th:only-of-type {\n",
       "        vertical-align: middle;\n",
       "    }\n",
       "\n",
       "    .dataframe tbody tr th {\n",
       "        vertical-align: top;\n",
       "    }\n",
       "\n",
       "    .dataframe thead th {\n",
       "        text-align: right;\n",
       "    }\n",
       "</style>\n",
       "<table border=\"1\" class=\"dataframe\">\n",
       "  <thead>\n",
       "    <tr style=\"text-align: right;\">\n",
       "      <th></th>\n",
       "      <th>custom_audiences_v2</th>\n",
       "    </tr>\n",
       "  </thead>\n",
       "  <tbody>\n",
       "    <tr>\n",
       "      <th>0</th>\n",
       "      <td>80,000 Hours</td>\n",
       "    </tr>\n",
       "    <tr>\n",
       "      <th>1</th>\n",
       "      <td>Abstract Home Art</td>\n",
       "    </tr>\n",
       "    <tr>\n",
       "      <th>2</th>\n",
       "      <td>Adobe Commerce</td>\n",
       "    </tr>\n",
       "    <tr>\n",
       "      <th>3</th>\n",
       "      <td>Adobe Design</td>\n",
       "    </tr>\n",
       "    <tr>\n",
       "      <th>4</th>\n",
       "      <td>Adobe Photoshop</td>\n",
       "    </tr>\n",
       "  </tbody>\n",
       "</table>\n",
       "</div>"
      ],
      "text/plain": [
       "  custom_audiences_v2\n",
       "0        80,000 Hours\n",
       "1   Abstract Home Art\n",
       "2      Adobe Commerce\n",
       "3        Adobe Design\n",
       "4     Adobe Photoshop"
      ]
     },
     "execution_count": 16,
     "metadata": {},
     "output_type": "execute_result"
    }
   ],
   "source": [
    "df_advertisers.head()"
   ]
  },
  {
   "cell_type": "markdown",
   "metadata": {},
   "source": [
    "Sometimes they need more work, so I can use the expand_dictionary function that we have above. \n",
    "\n",
    "*Don't forget to copy, paste and run the function (def...) in your notebook. Otherwise it won't be found, and you'll get an error message.*"
   ]
  },
  {
   "cell_type": "code",
   "execution_count": 17,
   "metadata": {},
   "outputs": [],
   "source": [
    "df_ads_clicked = pd.read_json('../../../DA-StudentFiles/LocalFiles/advertisers_you\\'ve_interacted_with.json')"
   ]
  },
  {
   "cell_type": "code",
   "execution_count": 18,
   "metadata": {},
   "outputs": [
    {
     "data": {
      "text/html": [
       "<div>\n",
       "<style scoped>\n",
       "    .dataframe tbody tr th:only-of-type {\n",
       "        vertical-align: middle;\n",
       "    }\n",
       "\n",
       "    .dataframe tbody tr th {\n",
       "        vertical-align: top;\n",
       "    }\n",
       "\n",
       "    .dataframe thead th {\n",
       "        text-align: right;\n",
       "    }\n",
       "</style>\n",
       "<table border=\"1\" class=\"dataframe\">\n",
       "  <thead>\n",
       "    <tr style=\"text-align: right;\">\n",
       "      <th></th>\n",
       "      <th>history_v2</th>\n",
       "    </tr>\n",
       "  </thead>\n",
       "  <tbody>\n",
       "    <tr>\n",
       "      <th>0</th>\n",
       "      <td>{'title': '{{product.name}}', 'action': 'Click...</td>\n",
       "    </tr>\n",
       "    <tr>\n",
       "      <th>1</th>\n",
       "      <td>{'title': 'Are you prepared if your dog is inj...</td>\n",
       "    </tr>\n",
       "    <tr>\n",
       "      <th>2</th>\n",
       "      <td>{'title': 'All the knives you'll ever need!', ...</td>\n",
       "    </tr>\n",
       "    <tr>\n",
       "      <th>3</th>\n",
       "      <td>{'title': 'Misen', 'action': 'Clicked ad', 'ti...</td>\n",
       "    </tr>\n",
       "    <tr>\n",
       "      <th>4</th>\n",
       "      <td>{'title': 'The standing desk You deserve.', 'a...</td>\n",
       "    </tr>\n",
       "  </tbody>\n",
       "</table>\n",
       "</div>"
      ],
      "text/plain": [
       "                                          history_v2\n",
       "0  {'title': '{{product.name}}', 'action': 'Click...\n",
       "1  {'title': 'Are you prepared if your dog is inj...\n",
       "2  {'title': 'All the knives you'll ever need!', ...\n",
       "3  {'title': 'Misen', 'action': 'Clicked ad', 'ti...\n",
       "4  {'title': 'The standing desk You deserve.', 'a..."
      ]
     },
     "execution_count": 18,
     "metadata": {},
     "output_type": "execute_result"
    }
   ],
   "source": [
    "df_ads_clicked.head()"
   ]
  },
  {
   "cell_type": "code",
   "execution_count": 19,
   "metadata": {},
   "outputs": [],
   "source": [
    "df_ads_clicked = df_ads_clicked.apply(expand_dictionary, axis=1, args=('history_v2',))"
   ]
  },
  {
   "cell_type": "code",
   "execution_count": 20,
   "metadata": {},
   "outputs": [
    {
     "data": {
      "text/html": [
       "<div>\n",
       "<style scoped>\n",
       "    .dataframe tbody tr th:only-of-type {\n",
       "        vertical-align: middle;\n",
       "    }\n",
       "\n",
       "    .dataframe tbody tr th {\n",
       "        vertical-align: top;\n",
       "    }\n",
       "\n",
       "    .dataframe thead th {\n",
       "        text-align: right;\n",
       "    }\n",
       "</style>\n",
       "<table border=\"1\" class=\"dataframe\">\n",
       "  <thead>\n",
       "    <tr style=\"text-align: right;\">\n",
       "      <th></th>\n",
       "      <th>history_v2</th>\n",
       "      <th>title</th>\n",
       "      <th>action</th>\n",
       "      <th>timestamp</th>\n",
       "    </tr>\n",
       "  </thead>\n",
       "  <tbody>\n",
       "    <tr>\n",
       "      <th>0</th>\n",
       "      <td>{'title': '{{product.name}}', 'action': 'Click...</td>\n",
       "      <td>{{product.name}}</td>\n",
       "      <td>Clicked ad</td>\n",
       "      <td>1628942629</td>\n",
       "    </tr>\n",
       "    <tr>\n",
       "      <th>1</th>\n",
       "      <td>{'title': 'Are you prepared if your dog is inj...</td>\n",
       "      <td>Are you prepared if your dog is injured on the...</td>\n",
       "      <td>Clicked ad</td>\n",
       "      <td>1628920263</td>\n",
       "    </tr>\n",
       "    <tr>\n",
       "      <th>2</th>\n",
       "      <td>{'title': 'All the knives you'll ever need!', ...</td>\n",
       "      <td>All the knives you'll ever need!</td>\n",
       "      <td>Clicked ad</td>\n",
       "      <td>1627566184</td>\n",
       "    </tr>\n",
       "    <tr>\n",
       "      <th>3</th>\n",
       "      <td>{'title': 'Misen', 'action': 'Clicked ad', 'ti...</td>\n",
       "      <td>Misen</td>\n",
       "      <td>Clicked ad</td>\n",
       "      <td>1626694857</td>\n",
       "    </tr>\n",
       "    <tr>\n",
       "      <th>4</th>\n",
       "      <td>{'title': 'The standing desk You deserve.', 'a...</td>\n",
       "      <td>The standing desk You deserve.</td>\n",
       "      <td>Clicked ad</td>\n",
       "      <td>1626628194</td>\n",
       "    </tr>\n",
       "  </tbody>\n",
       "</table>\n",
       "</div>"
      ],
      "text/plain": [
       "                                          history_v2  \\\n",
       "0  {'title': '{{product.name}}', 'action': 'Click...   \n",
       "1  {'title': 'Are you prepared if your dog is inj...   \n",
       "2  {'title': 'All the knives you'll ever need!', ...   \n",
       "3  {'title': 'Misen', 'action': 'Clicked ad', 'ti...   \n",
       "4  {'title': 'The standing desk You deserve.', 'a...   \n",
       "\n",
       "                                               title      action   timestamp  \n",
       "0                                   {{product.name}}  Clicked ad  1628942629  \n",
       "1  Are you prepared if your dog is injured on the...  Clicked ad  1628920263  \n",
       "2                   All the knives you'll ever need!  Clicked ad  1627566184  \n",
       "3                                              Misen  Clicked ad  1626694857  \n",
       "4                     The standing desk You deserve.  Clicked ad  1626628194  "
      ]
     },
     "execution_count": 20,
     "metadata": {},
     "output_type": "execute_result"
    }
   ],
   "source": [
    "df_ads_clicked.head()"
   ]
  },
  {
   "cell_type": "code",
   "execution_count": null,
   "metadata": {},
   "outputs": [],
   "source": []
  }
 ],
 "metadata": {
  "kernelspec": {
   "display_name": "Python 3",
   "language": "python",
   "name": "python3"
  },
  "language_info": {
   "codemirror_mode": {
    "name": "ipython",
    "version": 3
   },
   "file_extension": ".py",
   "mimetype": "text/x-python",
   "name": "python",
   "nbconvert_exporter": "python",
   "pygments_lexer": "ipython3",
   "version": "3.8.5"
  }
 },
 "nbformat": 4,
 "nbformat_minor": 4
}
