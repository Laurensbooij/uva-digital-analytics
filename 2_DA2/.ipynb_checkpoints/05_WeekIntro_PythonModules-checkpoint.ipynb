{
 "cells": [
  {
   "cell_type": "markdown",
   "metadata": {},
   "source": [
    "# Loading and working with data\n",
    "\n",
    "By the end of the tutorials of this week, you should acquire:\n",
    "\n",
    "**Knowledge on:**\n",
    "* What a Python module is\n",
    "* Working with tabular data\n",
    "* Creating and loading dataframes\n",
    "* Explorating unknown datasets\n",
    "* Slicing datasets\n",
    "\n",
    "\n",
    "**Skills:**\n",
    "* Loading pandas\n",
    "* Creating a dataframe based on dictionary\n",
    "* Loading a CSV\n",
    "* The commands: .columns, .describe(), .value_counts() and .groupby()\n",
    "* Slicing a dataframe based on column\n",
    "\n",
    "Note: all data used here is also available on SurfDrive (FilesUsedOnTutorials)."
   ]
  },
  {
   "cell_type": "markdown",
   "metadata": {},
   "source": [
    "## Extending Python\n",
    "\n",
    "Python has a several modules, packages or libraries that have been created by other developers which can help us with our work. \n",
    "\n",
    "For example, say we want to calculate the difference between two dates (in days). We could create a function to do so..."
   ]
  },
  {
   "cell_type": "code",
   "execution_count": 1,
   "metadata": {
    "collapsed": true,
    "jupyter": {
     "outputs_hidden": true
    }
   },
   "outputs": [],
   "source": [
    "def difference_dates(date1,date2):\n",
    "    delta = date2 - date1\n",
    "    return delta"
   ]
  },
  {
   "cell_type": "code",
   "execution_count": 2,
   "metadata": {
    "collapsed": true,
    "jupyter": {
     "outputs_hidden": true
    }
   },
   "outputs": [],
   "source": [
    "date1 = '2016-02-1'\n",
    "date2 = '2016-04-15'"
   ]
  },
  {
   "cell_type": "code",
   "execution_count": null,
   "metadata": {
    "collapsed": true,
    "jupyter": {
     "outputs_hidden": true
    }
   },
   "outputs": [],
   "source": []
  },
  {
   "cell_type": "code",
   "execution_count": 3,
   "metadata": {},
   "outputs": [
    {
     "ename": "TypeError",
     "evalue": "unsupported operand type(s) for -: 'str' and 'str'",
     "output_type": "error",
     "traceback": [
      "\u001b[0;31m---------------------------------------------------------------------------\u001b[0m",
      "\u001b[0;31mTypeError\u001b[0m                                 Traceback (most recent call last)",
      "\u001b[0;32m<ipython-input-3-c3d25cac502f>\u001b[0m in \u001b[0;36m<module>\u001b[0;34m()\u001b[0m\n\u001b[0;32m----> 1\u001b[0;31m \u001b[0mdifference_dates\u001b[0m\u001b[0;34m(\u001b[0m\u001b[0mdate1\u001b[0m\u001b[0;34m,\u001b[0m\u001b[0mdate2\u001b[0m\u001b[0;34m)\u001b[0m\u001b[0;34m\u001b[0m\u001b[0m\n\u001b[0m",
      "\u001b[0;32m<ipython-input-1-f77ac34053f3>\u001b[0m in \u001b[0;36mdifference_dates\u001b[0;34m(date1, date2)\u001b[0m\n\u001b[1;32m      1\u001b[0m \u001b[0;32mdef\u001b[0m \u001b[0mdifference_dates\u001b[0m\u001b[0;34m(\u001b[0m\u001b[0mdate1\u001b[0m\u001b[0;34m,\u001b[0m\u001b[0mdate2\u001b[0m\u001b[0;34m)\u001b[0m\u001b[0;34m:\u001b[0m\u001b[0;34m\u001b[0m\u001b[0m\n\u001b[0;32m----> 2\u001b[0;31m     \u001b[0mdelta\u001b[0m \u001b[0;34m=\u001b[0m \u001b[0mdate2\u001b[0m \u001b[0;34m-\u001b[0m \u001b[0mdate1\u001b[0m\u001b[0;34m\u001b[0m\u001b[0m\n\u001b[0m\u001b[1;32m      3\u001b[0m     \u001b[0;32mreturn\u001b[0m \u001b[0mdelta\u001b[0m\u001b[0;34m\u001b[0m\u001b[0m\n",
      "\u001b[0;31mTypeError\u001b[0m: unsupported operand type(s) for -: 'str' and 'str'"
     ]
    }
   ],
   "source": [
    "difference_dates(date1,date2)"
   ]
  },
  {
   "cell_type": "code",
   "execution_count": 4,
   "metadata": {},
   "outputs": [
    {
     "ename": "NameError",
     "evalue": "name 'timedelta' is not defined",
     "output_type": "error",
     "traceback": [
      "\u001b[0;31m---------------------------------------------------------------------------\u001b[0m",
      "\u001b[0;31mNameError\u001b[0m                                 Traceback (most recent call last)",
      "\u001b[0;32m<ipython-input-4-6a6fd996108a>\u001b[0m in \u001b[0;36m<module>\u001b[0;34m()\u001b[0m\n\u001b[0;32m----> 1\u001b[0;31m \u001b[0mtimedelta\u001b[0m\u001b[0;34m\u001b[0m\u001b[0m\n\u001b[0m",
      "\u001b[0;31mNameError\u001b[0m: name 'timedelta' is not defined"
     ]
    }
   ],
   "source": [
    "timedelta"
   ]
  },
  {
   "cell_type": "markdown",
   "metadata": {},
   "source": [
    "Or... we could import a module that already exists, called datetime, and use its timedelta function"
   ]
  },
  {
   "cell_type": "code",
   "execution_count": 3,
   "metadata": {
    "collapsed": true,
    "jupyter": {
     "outputs_hidden": true
    }
   },
   "outputs": [],
   "source": [
    "from datetime import timedelta, date"
   ]
  },
  {
   "cell_type": "code",
   "execution_count": 4,
   "metadata": {},
   "outputs": [
    {
     "data": {
      "text/plain": [
       "datetime.timedelta"
      ]
     },
     "execution_count": 4,
     "metadata": {},
     "output_type": "execute_result"
    }
   ],
   "source": [
    "timedelta"
   ]
  },
  {
   "cell_type": "markdown",
   "metadata": {},
   "source": [
    "To find out how such modules work and what is required for each function you can have a look at their documentation [(link to datetime documentation)](https://docs.python.org/3/library/datetime.html). In the documentation we see that datetime.date has three attributes: year, month, day."
   ]
  },
  {
   "cell_type": "code",
   "execution_count": 7,
   "metadata": {
    "collapsed": true,
    "jupyter": {
     "outputs_hidden": true
    }
   },
   "outputs": [],
   "source": [
    "a = date(2016,2,1)\n",
    "b = date(2016,4,15)"
   ]
  },
  {
   "cell_type": "code",
   "execution_count": 8,
   "metadata": {},
   "outputs": [
    {
     "data": {
      "text/plain": [
       "datetime.date(2016, 2, 1)"
      ]
     },
     "execution_count": 8,
     "metadata": {},
     "output_type": "execute_result"
    }
   ],
   "source": [
    "a"
   ]
  },
  {
   "cell_type": "code",
   "execution_count": 9,
   "metadata": {
    "collapsed": true,
    "jupyter": {
     "outputs_hidden": true
    }
   },
   "outputs": [],
   "source": [
    "delta = b - a"
   ]
  },
  {
   "cell_type": "code",
   "execution_count": 10,
   "metadata": {},
   "outputs": [
    {
     "data": {
      "text/plain": [
       "datetime.timedelta(74)"
      ]
     },
     "execution_count": 10,
     "metadata": {},
     "output_type": "execute_result"
    }
   ],
   "source": [
    "delta"
   ]
  },
  {
   "cell_type": "code",
   "execution_count": 11,
   "metadata": {},
   "outputs": [
    {
     "data": {
      "text/plain": [
       "74"
      ]
     },
     "execution_count": 11,
     "metadata": {},
     "output_type": "execute_result"
    }
   ],
   "source": [
    "delta.days"
   ]
  },
  {
   "cell_type": "markdown",
   "metadata": {},
   "source": [
    "## Installing new packages\n",
    "\n",
    "### Package installers\n",
    "Sometimes what we want to do was created by a developer, but is not available in our own machine. In these cases, we will *install* the package locally.\n",
    "\n",
    "There are two ways to do it:\n",
    "* Using the command ```pip install NAMEOFTHEPACKAGE``\n",
    "* For those who have Anaconda installed, using anaconda directly ```conda install NAMEOFTHEPACKAGE```\n",
    "\n",
    "```pip``` is the official installer for Python packages. In principle, it works in your computer as well. However, because we have installed ```anaconda```, we prefer to first try to see if anaconda has the package and install via anaconda. This tends to create less problems with compatibility among the packages installed. However, if anaconda doesn't not have the package, then we resort to pip. \n",
    "\n",
    "How do we know if it has the package? Usually I just try conda first, and if it doesn't work, pip second.\n",
    "\n",
    "**Note:** In as you go into more advanced discussions about Python, you will see the importance of at times creating specific environments and using conda and/or pip in different ways. Given the introductory nature of this course, we won't cover this here.\n",
    "\n",
    "### How to find packages\n",
    "\n",
    "How do I find these extensions (libraries, modules etc.)? I usually Google :-)\n",
    "\n",
    "To be on the safe side:\n",
    "* **Only** install packages via pip or via conda\n",
    "* Do not download and run packages manually on your computer (unless you know what you are doing, and you trust the source)\n",
    "* Do not use the --forge option in conda (or pip), as these tend to be packages still in development (unless, of course, you are sure of what you are doing).\n",
    "\n",
    "### Where to install a package\n",
    "\n",
    "**Important:** You install a package in terminal or in anaconda prompt (not in a Jupyter Notebook). I'll demonstrate this in the video with an example on how to install ```twarc```, the library we will use to connect to the Twitter API.\n"
   ]
  },
  {
   "cell_type": "code",
   "execution_count": null,
   "metadata": {},
   "outputs": [],
   "source": []
  },
  {
   "cell_type": "code",
   "execution_count": null,
   "metadata": {},
   "outputs": [],
   "source": []
  }
 ],
 "metadata": {
  "anaconda-cloud": {},
  "kernelspec": {
   "display_name": "Python 3",
   "language": "python",
   "name": "python3"
  },
  "language_info": {
   "codemirror_mode": {
    "name": "ipython",
    "version": 3
   },
   "file_extension": ".py",
   "mimetype": "text/x-python",
   "name": "python",
   "nbconvert_exporter": "python",
   "pygments_lexer": "ipython3",
   "version": "3.8.5"
  }
 },
 "nbformat": 4,
 "nbformat_minor": 4
}
